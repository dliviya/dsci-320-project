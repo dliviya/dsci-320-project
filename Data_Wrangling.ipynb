{
 "cells": [
  {
   "cell_type": "code",
   "execution_count": 1,
   "id": "7bbe3cbd-dd76-4879-9792-ec54555af73f",
   "metadata": {},
   "outputs": [],
   "source": [
    "# Imports\n",
    "import pandas as pd\n",
    "import numpy as np\n",
    "import altair as alt\n",
    "import sympy as sp\n",
    "import math\n",
    "import csv"
   ]
  },
  {
   "cell_type": "code",
   "execution_count": 2,
   "id": "6298843e-1f4b-4d16-b25c-11c7f40deaa3",
   "metadata": {},
   "outputs": [],
   "source": [
    "spotify_data = pd.read_csv('data/spotify_2023.csv', delimiter=',')\n",
    "\n",
    "# These features were encoded as the incorrect data type in the original data set, so we are tranforming them into numeric here before creating visuals\n",
    "spotify_data['streams'] = pd.to_numeric(spotify_data['streams'], errors='coerce')\n",
    "spotify_data['in_shazam_charts'] = pd.to_numeric(spotify_data['in_shazam_charts'], errors='coerce')\n",
    "spotify_data['in_deezer_playlists'] = pd.to_numeric(spotify_data['in_deezer_playlists'], errors='coerce')"
   ]
  },
  {
   "cell_type": "code",
   "execution_count": 3,
   "id": "c5a83c64-6c07-4093-a04c-2ca1aa76ca90",
   "metadata": {},
   "outputs": [],
   "source": [
    "wrangled_data = spotify_data\n",
    "\n",
    "# Create bins and labels\n",
    "bins = [0, 20, 40, 60,80,100, float('inf')]\n",
    "labels = ['0-20','21-40', '41-60','61-80', '81-100', '100+']\n",
    "\n",
    "# Create a new column 'rank_bin' based on the bins\n",
    "wrangled_data['rank_bin'] = pd.cut(wrangled_data['in_spotify_charts'], bins=bins, labels=labels, right=False)\n",
    "\n",
    "month_to_season = {\n",
    "    1: 'Winter',\n",
    "    2: 'Winter',\n",
    "    3: 'Spring',\n",
    "    4: 'Spring',\n",
    "    5: 'Spring',\n",
    "    6: 'Summer',\n",
    "    7: 'Summer',\n",
    "    8: 'Summer',\n",
    "    9: 'Fall',\n",
    "    10: 'Fall',\n",
    "    11: 'Fall',\n",
    "    12: 'Winter'\n",
    "}\n",
    "\n",
    "# Create a new column 'season' based on the 'released_month' column\n",
    "wrangled_data['season'] = wrangled_data['released_month'].map(month_to_season)"
   ]
  },
  {
   "cell_type": "code",
   "execution_count": 4,
   "id": "ad0ce277-7bfb-473a-b160-94c390fa4d3a",
   "metadata": {},
   "outputs": [],
   "source": [
    "# Creating special charactersitic columns that are shifted to a 360 degree scale\n",
    "wrangled_data['arc_danceability'] = wrangled_data['danceability_%'].div(100).round(2) * math.pi\n",
    "wrangled_data['arc_acousticness'] = wrangled_data['acousticness_%'].div(100).round(2) * math.pi\n",
    "wrangled_data['arc_energy'] = wrangled_data['energy_%'].div(100).round(2) * math.pi\n",
    "wrangled_data['arc_valence'] = wrangled_data['valence_%'].div(100).round(2) * math.pi"
   ]
  },
  {
   "cell_type": "code",
   "execution_count": 5,
   "id": "1f7e03b2-ac55-4e6d-851f-caea4eb8cbc3",
   "metadata": {
    "tags": []
   },
   "outputs": [],
   "source": [
    "wrangled_data.to_csv('data/wrangled_data.csv', encoding='utf-8', index=False)"
   ]
  }
 ],
 "metadata": {
  "kernelspec": {
   "display_name": "Python [conda env:320_env]",
   "language": "python",
   "name": "conda-env-320_env-py"
  },
  "language_info": {
   "codemirror_mode": {
    "name": "ipython",
    "version": 3
   },
   "file_extension": ".py",
   "mimetype": "text/x-python",
   "name": "python",
   "nbconvert_exporter": "python",
   "pygments_lexer": "ipython3",
   "version": "3.11.4"
  }
 },
 "nbformat": 4,
 "nbformat_minor": 5
}
